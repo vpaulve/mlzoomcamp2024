import pandas as pd
import numpy as np








pd.__version__





df=pd.read_csv('laptops.csv')





df.shape[0]











df.head()


df.Brand.nunique()











df.isnull().sum()











df['Brand']=='Dell'


df_filtrado_dell= df[
    df['Brand']=='Dell'
]
df_filtrado_dell.head()


max_final_price_dell =df_filtrado_dell['Final Price'].max()
max_final_price_dell











df.Screen.median()








mode_screen=df.Screen.mode()[0]
mode_screen








df.Screen.isnull().sum()


df[df.Screen.isnull()]


df.Screen.fillna(mode_screen, inplace=True)


df.Screen.isnull().sum()





df.Screen.median()














df_filtrado_innjoo= df[
    df['Brand']=='Innjoo'
]
df_filtrado_innjoo.head()





df2 = df_filtrado_innjoo[['RAM', 'Storage','Screen']]
df2






x=df2[['RAM', 'Storage','Screen']].to_numpy()
x





xt=x.T
xt


xtx=xt.dot(x)
xtx





ixtx=np.linalg.inv(xtx)
ixtx





y = np.array([1100, 1300, 800, 900, 1000, 1100])
y






r=ixtx.dot(xt)
w=r.dot(y)
w


suma=w.sum()
suma






